{
 "cells": [
  {
   "cell_type": "markdown",
   "metadata": {},
   "source": [
    "# Worksheet 08\n",
    "\n",
    "Name:  Truc Duong\n",
    "UID: U40568683\n",
    "\n",
    "### Topics\n",
    "\n",
    "- Soft Clustering\n",
    "- Clustering Aggregation\n",
    "\n",
    "### Probability Review\n",
    "\n",
    "Read through [the following](https://medium.com/@gallettilance/overview-of-probability-3272b72c82c8)\n",
    "\n",
    "### Soft Clustering\n",
    "\n",
    "We generate 10 data points that come from a normal distribution with mean 5 and variance 1."
   ]
  },
  {
   "cell_type": "code",
   "execution_count": 11,
   "metadata": {},
   "outputs": [
    {
     "name": "stdout",
     "output_type": "stream",
     "text": [
      "[5.690395255703433, 4.731640330905554, 4.577876493991653, 4.079774417108103, 3.789073017901364, 6.567521576436346, 4.5668382211609035, 4.866499077236474, 5.3565563841268995, 6.0240154577926655]\n"
     ]
    }
   ],
   "source": [
    "import random\n",
    "import numpy as np\n",
    "from sklearn.cluster import KMeans\n",
    "\n",
    "mean = 5\n",
    "stdev = 1\n",
    "\n",
    "s1 = np.random.normal(mean, stdev, 10).tolist()\n",
    "print(s1)"
   ]
  },
  {
   "cell_type": "markdown",
   "metadata": {},
   "source": [
    "a) Generate 10 more data points, this time coming from a normal distribution with mean 8 and variance 1."
   ]
  },
  {
   "cell_type": "code",
   "execution_count": 12,
   "metadata": {},
   "outputs": [
    {
     "name": "stdout",
     "output_type": "stream",
     "text": [
      "[6.63725769734741, 7.540676370100626, 7.618836230040671, 10.31142837854367, 7.659917844205796, 6.767952816500002, 8.127342316380826, 7.136368081897033, 9.216090887106372, 8.107588802239976]\n"
     ]
    }
   ],
   "source": [
    "s2 = np.random.normal(8, 1 , 10 ).tolist()\n",
    "print(s2)"
   ]
  },
  {
   "cell_type": "markdown",
   "metadata": {},
   "source": [
    "b) Flip a fair coin 10 times. If the coin lands on H, then pick the last data point of `c1` and remove it from `c1`, if T then pick the last data point from `c2` and remove it from `c2`. Add these 10 points to a list called `data`."
   ]
  },
  {
   "cell_type": "code",
   "execution_count": 13,
   "metadata": {},
   "outputs": [
    {
     "name": "stdout",
     "output_type": "stream",
     "text": [
      "[6.0240154577926655, 8.107588802239976, 5.3565563841268995, 4.866499077236474, 9.216090887106372, 7.136368081897033, 8.127342316380826, 4.5668382211609035, 6.767952816500002, 6.567521576436346]\n"
     ]
    }
   ],
   "source": [
    "data = []\n",
    "for i in range(10):\n",
    "    # flip coin\n",
    "    coin_output = random.choice([0, 1])\n",
    "    if coin_output == 0:\n",
    "        p1 = s1.pop()\n",
    "        data.append(p1)\n",
    "    else:\n",
    "        p2 = s2.pop()\n",
    "        data.append(p2)\n",
    "print(data)"
   ]
  },
  {
   "cell_type": "markdown",
   "metadata": {},
   "source": [
    "c) This `data` is a Gaussian Mixture Distribution with 2 mixture components. Over the next few questions we will walk through the GMM algorithm to see if we can uncover the parameters we used to generate this data. First, please list all these parameters of the GMM that created `data` and the values we know they have."
   ]
  },
  {
   "cell_type": "markdown",
   "metadata": {},
   "source": [
    "- the data is randomly picked from both different species.\n",
    "- The probability that it comes from each dataset is 0.5.\n",
    "- mean, variance, and probabilities for every species can give us valuable insights"
   ]
  },
  {
   "cell_type": "markdown",
   "metadata": {},
   "source": [
    "d) Let's assume there are two mixture components (note: we could plot the data and make the observation that there are two clusters). The EM algorithm asks us to start with a random `mean_j`, `variance_j`, `P(S_j)` for each component j. One method we could use to find sensible values for these is to apply K means with k=2 here.\n",
    "\n",
    "1. the centroids would be the estimates of the `mean_j`\n",
    "2. the intra-cluster variance could be the estimate of `variance_j`\n",
    "3. the proportion of points in each cluster could be the estimate of `P(S_j)`\n",
    "\n",
    "Go through this process and list the parameter estimates it gives. Are they close or far from the true values?"
   ]
  },
  {
   "cell_type": "code",
   "execution_count": 14,
   "metadata": {},
   "outputs": [
    {
     "name": "stdout",
     "output_type": "stream",
     "text": [
      "[6.0240154577926655, 5.3565563841268995, 4.866499077236474, 4.5668382211609035, 6.767952816500002, 6.567521576436346]\n",
      "[8.107588802239976, 9.216090887106372, 7.136368081897033, 8.127342316380826]\n",
      "P(S_1) = 0.6,  P(S_2) = 0.4\n",
      "mean_1 = 5.691563922208882,  mean_2 = 8.146847521906052\n",
      "var_1 = 0.6824014731406529,  var_2 = 0.5415679432045615\n"
     ]
    }
   ],
   "source": [
    "kmeans = KMeans(2, init='k-means++').fit(X=np.array(data).reshape(-1, 1))\n",
    "\n",
    "s1 = [x[0] for x in filter(lambda x: x[1] == 0, zip(data, kmeans.labels_))]\n",
    "print(s1)\n",
    "s2 = [x[0] for x in filter(lambda x: x[1] == 1, zip(data, kmeans.labels_))]\n",
    "print(s2)\n",
    "\n",
    "prob_s = [ len(s1) / (len(s1) + len(s2)) , len(s2) / (len(s1) + len(s2)) ]\n",
    "mean = [ sum(s1)/len(s1) , sum(s2)/len(s2) ]\n",
    "var = [ sum(map(lambda x : (x - mean[0])**2, s1)) / len(s1) , sum(map(lambda x : (x - mean[1])**2, s2)) / len(s2) ]\n",
    "\n",
    "print(\"P(S_1) = \" + str(prob_s[0]) + \",  P(S_2) = \" + str(prob_s[1]))\n",
    "print(\"mean_1 = \" + str(mean[0]) + \",  mean_2 = \" + str(mean[1]))\n",
    "print(\"var_1 = \" + str(var[0]) + \",  var_2 = \" + str(var[1]))\n"
   ]
  },
  {
   "cell_type": "markdown",
   "metadata": {},
   "source": [
    "e) For each data point, compute `P(S_j | X_i)`. Comment on which cluster you think each point belongs to based on the estimated probabilities. How does that compare to the truth?"
   ]
  },
  {
   "cell_type": "code",
   "execution_count": 15,
   "metadata": {},
   "outputs": [
    {
     "name": "stdout",
     "output_type": "stream",
     "text": [
      "point =  6.0240154577926655\n",
      "probability of observing that point if it came from cluster 0 =  0.5191964224297076\n",
      "probability of observing that point if it came from cluster 1 =  0.00033950405404745794\n",
      "point =  8.107588802239976\n",
      "probability of observing that point if it came from cluster 0 =  0.001109017762002889\n",
      "probability of observing that point if it came from cluster 1 =  0.7347101240870374\n",
      "point =  5.3565563841268995\n",
      "probability of observing that point if it came from cluster 0 =  0.5182462334441958\n",
      "probability of observing that point if it came from cluster 1 =  1.2674925770131845e-06\n",
      "point =  4.866499077236474\n",
      "probability of observing that point if it came from cluster 0 =  0.28147395101856576\n",
      "probability of observing that point if it came from cluster 1 =  7.950150426873993e-09\n",
      "point =  9.216090887106372\n",
      "probability of observing that point if it came from cluster 0 =  9.424020876026743e-07\n",
      "probability of observing that point if it came from cluster 1 =  0.10490752886524628\n",
      "point =  7.136368081897033\n",
      "probability of observing that point if it came from cluster 0 =  0.06215381686023667\n",
      "probability of observing that point if it came from cluster 1 =  0.12920793127886956\n",
      "point =  8.127342316380826\n",
      "probability of observing that point if it came from cluster 0 =  0.0010005696101683399\n",
      "probability of observing that point if it came from cluster 1 =  0.7361654661229131\n",
      "point =  4.5668382211609035\n",
      "probability of observing that point if it came from cluster 0 =  0.1503089067890178\n",
      "probability of observing that point if it came from cluster 1 =  2.389672552793272e-10\n",
      "point =  6.767952816500002\n",
      "probability of observing that point if it came from cluster 0 =  0.16849912964942956\n",
      "probability of observing that point if it came from cluster 1 =  0.028810808756917543\n",
      "point =  6.567521576436346\n",
      "probability of observing that point if it came from cluster 0 =  0.25648966463617207\n",
      "probability of observing that point if it came from cluster 1 =  0.010485177642445455\n",
      "6.0240154577926655\n",
      "Probability of coming from S_0 = 0.9995642546801373\n",
      "Probability of coming from S_1 = 0.00043574531986273685\n",
      "\n",
      "8.107588802239976\n",
      "Probability of coming from S_0 = 0.0022590795329994647\n",
      "Probability of coming from S_1 = 0.9977409204670006\n",
      "\n",
      "5.3565563841268995\n",
      "Probability of coming from S_0 = 0.9999983695131406\n",
      "Probability of coming from S_1 = 1.6304868594472543e-06\n",
      "\n",
      "4.866499077236474\n",
      "Probability of coming from S_0 = 0.9999999811701931\n",
      "Probability of coming from S_1 = 1.8829807041125476e-08\n",
      "\n",
      "9.216090887106372\n",
      "Probability of coming from S_0 = 1.3474572311412905e-05\n",
      "Probability of coming from S_1 = 0.9999865254276885\n",
      "\n",
      "7.136368081897033\n",
      "Probability of coming from S_0 = 0.4191300501823562\n",
      "Probability of coming from S_1 = 0.5808699498176438\n",
      "\n",
      "8.127342316380826\n",
      "Probability of coming from S_0 = 0.0020345979929754132\n",
      "Probability of coming from S_1 = 0.9979654020070245\n",
      "\n",
      "4.5668382211609035\n",
      "Probability of coming from S_0 = 0.999999998940106\n",
      "Probability of coming from S_1 = 1.0598939660596224e-09\n",
      "\n",
      "6.767952816500002\n",
      "Probability of coming from S_0 = 0.8976741739266604\n",
      "Probability of coming from S_1 = 0.10232582607333963\n",
      "\n",
      "6.567521576436346\n",
      "Probability of coming from S_0 = 0.9734700008213282\n",
      "Probability of coming from S_1 = 0.026529999178671736\n",
      "\n"
     ]
    }
   ],
   "source": [
    "from scipy.stats import norm\n",
    "\n",
    "prob_s0_x = [] # P(S_0 | X_i)\n",
    "prob_s1_x = [] # P(S_1 | X_i)\n",
    "prob_x = [] # P(X_i)\n",
    "\n",
    "k = 2\n",
    "\n",
    "for p in data:\n",
    "    print(\"point = \", p)\n",
    "    pdf_i = []\n",
    "\n",
    "    for j in range(k):\n",
    "        # P(X_i | S_j)\n",
    "        pdf_i.append(norm.pdf(p, mean[j], var[j]))\n",
    "        print(\"probability of observing that point if it came from cluster \" + str(j) + \" = \", pdf_i[j])\n",
    "        # P(S_j) already computed\n",
    "        prob_s[j]\n",
    "\n",
    "    # P(X_i) = P(S_0)P(X_i | S_0) + P(S_1)P(X_i | S_1)\n",
    "    prob_x_i = prob_s[0] * pdf_i[0] + prob_s[1] * pdf_i[1]\n",
    "\n",
    "    # P(S_0 | X_i) = P(X_i | S_0)P(S_0) / P(X_i)\n",
    "    prob_s0_x_i = (pdf_i[0] * prob_s[0]) / prob_x_i\n",
    "    prob_s0_x.append( prob_s0_x_i )\n",
    "    # P(S_1 | X_i) = P(X_i | S_1)P(S_1) / P(X_i)\n",
    "    prob_s1_x_i = (pdf_i[1] * prob_s[1]) / prob_x_i\n",
    "    prob_s1_x.append( prob_s1_x_i )\n",
    "\n",
    "probs = zip(data, prob_s0_x, prob_s1_x)\n",
    "for p in probs:\n",
    "    print(p[0])\n",
    "    print(\"Probability of coming from S_0 = \" + str(p[1]))\n",
    "    print(\"Probability of coming from S_1 = \" + str(p[2]))\n",
    "    print()\n"
   ]
  },
  {
   "cell_type": "markdown",
   "metadata": {},
   "source": [
    "f) Having computed `P(S_j | X_i)`, update the estimates of `mean_j`, `var_j`, and `P(S_j)`. How different are these values from the original ones you got from K means? briefly comment."
   ]
  },
  {
   "cell_type": "code",
   "execution_count": 16,
   "metadata": {},
   "outputs": [
    {
     "name": "stdout",
     "output_type": "stream",
     "text": [
      "P(S_1) = 0.6,  P(S_2) = 0.4\n",
      "mean_1 = 5.768221894315802,  mean_2 = 8.21153178873919\n",
      "var_1 = 0.7656009946321348,  var_2 = 0.5357717214502695\n"
     ]
    }
   ],
   "source": [
    "prob_c = [sum(prob_s0_x)/ len(prob_s0_x), sum(prob_s1_x) / len(prob_s1_x)]\n",
    "mean = [sum([x[0] * x[1] for x in zip(prob_s0_x, data)]) / sum(prob_s0_x), sum([x[0] * x[1] for x in zip(prob_s1_x, data)]) / sum(prob_s1_x)  ]\n",
    "var = [sum([x[0] * ((x[1] - mean[0])**2) for x in zip(prob_s0_x, data)]) / sum(prob_s0_x) , sum([x[0] * ((x[1] - mean[1])**2) for x in zip(prob_s1_x, data)]) / sum(prob_s1_x)]\n",
    "\n",
    "print(\"P(S_1) = \" + str(prob_s[0]) + \",  P(S_2) = \" + str(prob_s[1]))\n",
    "print(\"mean_1 = \" + str(mean[0]) + \",  mean_2 = \" + str(mean[1]))\n",
    "print(\"var_1 = \" + str(var[0]) + \",  var_2 = \" + str(var[1]))"
   ]
  },
  {
   "cell_type": "markdown",
   "metadata": {},
   "source": []
  },
  {
   "cell_type": "markdown",
   "metadata": {},
   "source": [
    "g) Update `P(S_j | X_i)`. Comment on any differences or lack thereof you observe."
   ]
  },
  {
   "cell_type": "code",
   "execution_count": 17,
   "metadata": {},
   "outputs": [
    {
     "name": "stdout",
     "output_type": "stream",
     "text": [
      "6.0240154577926655\n",
      "Probability of coming from S_0 = 0.9997865897926884\n",
      "Probability of coming from S_1 = 0.00021341020731166266\n",
      "\n",
      "8.107588802239976\n",
      "Probability of coming from S_0 = 0.011242363718737549\n",
      "Probability of coming from S_1 = 0.9887576362812623\n",
      "\n",
      "5.3565563841268995\n",
      "Probability of coming from S_0 = 0.9999993365410504\n",
      "Probability of coming from S_1 = 6.634589496224138e-07\n",
      "\n",
      "4.866499077236474\n",
      "Probability of coming from S_0 = 0.9999999942214844\n",
      "Probability of coming from S_1 = 5.778515468235035e-09\n",
      "\n",
      "9.216090887106372\n",
      "Probability of coming from S_0 = 0.00027180671212109444\n",
      "Probability of coming from S_1 = 0.999728193287879\n",
      "\n",
      "7.136368081897033\n",
      "Probability of coming from S_0 = 0.6432652839067605\n",
      "Probability of coming from S_1 = 0.35673471609323953\n",
      "\n",
      "8.127342316380826\n",
      "Probability of coming from S_0 = 0.010329128118646547\n",
      "Probability of coming from S_1 = 0.9896708718813535\n",
      "\n",
      "4.5668382211609035\n",
      "Probability of coming from S_0 = 0.9999999997424759\n",
      "Probability of coming from S_1 = 2.575242354979465e-10\n",
      "\n",
      "6.767952816500002\n",
      "Probability of coming from S_0 = 0.9502660313529362\n",
      "Probability of coming from S_1 = 0.049733968647063774\n",
      "\n",
      "6.567521576436346\n",
      "Probability of coming from S_0 = 0.9870750104762509\n",
      "Probability of coming from S_1 = 0.012924989523749035\n",
      "\n"
     ]
    }
   ],
   "source": [
    "prob_s0_x = []  # P(S_0 | X_i)\n",
    "prob_s1_x = []  # P(S_1 | X_i)\n",
    "\n",
    "for p in data:\n",
    "    pdf_i = []\n",
    "\n",
    "    for j in range(k):\n",
    "        # P(X_i | S_j)\n",
    "        pdf_i.append(norm.pdf(p, mean[j], var[j]))\n",
    "\n",
    "    # P(S_0 | X_i) = P(X_i | S_0)P(S_0) / P(X_i)\n",
    "    prob_s0_x_i = (pdf_i[0] * prob_c[0]) / (pdf_i[0] * prob_c[0] + pdf_i[1] * prob_c[1])\n",
    "    prob_s0_x.append(prob_s0_x_i)\n",
    "\n",
    "    # P(S_1 | X_i) = P(X_i | S_1)P(S_1) / P(X_i)\n",
    "    prob_s1_x_i = (pdf_i[1] * prob_c[1]) / (pdf_i[0] * prob_c[0] + pdf_i[1] * prob_c[1])\n",
    "    prob_s1_x.append(prob_s1_x_i)\n",
    "\n",
    "# Print updated posterior probabilities\n",
    "probs = zip(data, prob_s0_x, prob_s1_x)\n",
    "for p in probs:\n",
    "    print(p[0])\n",
    "    print(\"Probability of coming from S_0 = \" + str(p[1]))\n",
    "    print(\"Probability of coming from S_1 = \" + str(p[2]))\n",
    "    print()"
   ]
  },
  {
   "cell_type": "markdown",
   "metadata": {},
   "source": []
  },
  {
   "cell_type": "markdown",
   "metadata": {},
   "source": [
    "h) Use `P(S_j | X_i)` to create a hard assignment - label each point as belonging to a specific cluster (0 or 1)"
   ]
  },
  {
   "cell_type": "code",
   "execution_count": 18,
   "metadata": {},
   "outputs": [
    {
     "name": "stdout",
     "output_type": "stream",
     "text": [
      "Data point 0 belongs to Cluster 0\n",
      "Data point 1 belongs to Cluster 1\n",
      "Data point 2 belongs to Cluster 0\n",
      "Data point 3 belongs to Cluster 0\n",
      "Data point 4 belongs to Cluster 1\n",
      "Data point 5 belongs to Cluster 0\n",
      "Data point 6 belongs to Cluster 1\n",
      "Data point 7 belongs to Cluster 0\n",
      "Data point 8 belongs to Cluster 0\n",
      "Data point 9 belongs to Cluster 0\n"
     ]
    }
   ],
   "source": [
    "hard_assignments = []  # List to store hard cluster assignments\n",
    "\n",
    "for p_s0, p_s1 in zip(prob_s0_x, prob_s1_x):\n",
    "    if p_s0 > p_s1:\n",
    "        hard_assignments.append(0)  # Assign to cluster 0\n",
    "    else:\n",
    "        hard_assignments.append(1)  # Assign to cluster 1\n",
    "\n",
    "# Print the hard assignments\n",
    "for i, assignment in enumerate(hard_assignments):\n",
    "    print(f\"Data point {i} belongs to Cluster {assignment}\")"
   ]
  },
  {
   "cell_type": "code",
   "execution_count": null,
   "metadata": {},
   "outputs": [],
   "source": []
  }
 ],
 "metadata": {
  "kernelspec": {
   "display_name": "Python 3 (ipykernel)",
   "language": "python",
   "name": "python3"
  },
  "language_info": {
   "codemirror_mode": {
    "name": "ipython",
    "version": 3
   },
   "file_extension": ".py",
   "mimetype": "text/x-python",
   "name": "python",
   "nbconvert_exporter": "python",
   "pygments_lexer": "ipython3",
   "version": "3.9.7"
  },
  "vscode": {
   "interpreter": {
    "hash": "e7370f93d1d0cde622a1f8e1c04877d8463912d04d973331ad4851f04de6915a"
   }
  }
 },
 "nbformat": 4,
 "nbformat_minor": 2
}
