{
 "cells": [
  {
   "cell_type": "markdown",
   "metadata": {},
   "source": [
    "# Worksheet 14\n",
    "\n",
    "Name:  Truc Duong\n",
    "UID: U40568683\n",
    "\n",
    "### Topics\n",
    "\n",
    "- Naive Bayes\n",
    "- Model Evaluation\n",
    "\n",
    "### Naive Bayes\n",
    "\n",
    "| Attribute A | Attribute B | Attribute C | Class |\n",
    "|-------------|-------------|-------------|-------|\n",
    "| Yes         | Single      | High        | No    |\n",
    "| No          | Married     | Mid         | No    |\n",
    "| No          | Single      | Low         | No    |\n",
    "| Yes         | Married     | High        | No    |\n",
    "| No          | Divorced    | Mid         | Yes   |\n",
    "| No          | Married     | Low         | No    |\n",
    "| Yes         | Divorced    | High        | No    |\n",
    "| No          | Single      | Mid         | Yes   |\n",
    "| No          | Married     | Low         | No    |\n",
    "| No          | Single      | Mid         | Yes   |\n",
    "\n",
    "a) Compute the following probabilities:\n",
    "\n",
    "- P(Attribute A = Yes | Class = No)\n",
    "- P(Attribute B = Divorced | Class = Yes)\n",
    "- P(Attribute C = High | Class = No)\n",
    "- P(Attribute C = Mid | Class = Yes)"
   ]
  },
  {
   "cell_type": "markdown",
   "metadata": {},
   "source": [
    "- P(Attribute A = Yes | Class = No) = 3/7\n",
    "- P(Attribute B = Divorced | Class = Yes) = 1/3\n",
    "- P(Attribute C = High | Class = No) = 3/7\n",
    "- P(Attribute C = Mid | Class = Yes) = 3/3 = 1"
   ]
  },
  {
   "cell_type": "markdown",
   "metadata": {},
   "source": [
    "b) Classify the following unseen records:\n",
    "\n",
    "- (Yes, Married, Mid)\n",
    "- (No, Divorced, High)\n",
    "- (No, Single, High)\n",
    "- (No, Divorced, Low)"
   ]
  },
  {
   "cell_type": "markdown",
   "metadata": {},
   "source": [
    "(Yes,Married,Mid):\n",
    "\n",
    "- P(A=Yes|Yes)P(B=Married|Yes)P(C=Mid|Class=Yes)P(Class=Yes) = 0\n",
    " \n",
    "- P(A=Yes|No)P(B=Married|No)P(C=Mid|Class=No)P(Class=No) = 3/7. 4/7 . 1.7 . 7/10\n",
    "\n",
    "=> (Yes, Married, Mid) has class 1\n",
    "\n"
   ]
  },
  {
   "cell_type": "markdown",
   "metadata": {},
   "source": [
    " (No, Divorced, High):\n",
    "\n",
    "- P(No|C = yes) P(Divorced| C = yes) P(High| C=yes) P(C = yes) = 0\n",
    " \n",
    "- P(No|C = no) P(Divorced| C = no) P(High| C=no) P(C = no) = 4/7 . 1/7 . 3/7. 7/10\n",
    "\n",
    "=> (No, Divorced, High) has class 1\n"
   ]
  },
  {
   "cell_type": "markdown",
   "metadata": {},
   "source": [
    "(No, Single, High)\n",
    "\n",
    "- P(No|C = yes) P(Single| C = yes) P(High| C=yes) P(C = yes)  = 0\n",
    " \n",
    "- P(No|C = no) P(Single| C = no) P(High| C=no) P(C = no) = 4/7 . 2/7 . 3/7.7/10\n",
    "\n",
    "=> (No, Single, High) has class 1"
   ]
  },
  {
   "cell_type": "markdown",
   "metadata": {},
   "source": [
    "(No, Divorced, Low)\n",
    "- P(No|C = yes) P(Divorced| C = yes) P(Low| C=yes) P(C = yes)  = 0\n",
    " \n",
    "- P(No|C = no) P(Divorced| C = no) P(Low| C=no) P(C = no) = 4/7.1/7.3/7.7/10\n",
    "\n",
    "=> (No, Single, High) has class 1"
   ]
  },
  {
   "cell_type": "markdown",
   "metadata": {},
   "source": [
    "### Model Evaluation\n",
    "\n",
    "a) Write a function to generate the confusion matrix for a list of actual classes and a list of predicted classes"
   ]
  },
  {
   "cell_type": "code",
   "execution_count": 1,
   "metadata": {},
   "outputs": [
    {
     "name": "stdout",
     "output_type": "stream",
     "text": [
      "| Predicted |\n",
      "|  Y     N  |\n",
      "|-----------|--------\n",
      "|  2  |  1  | Y\n",
      "|-----------|   Acutal\n",
      "|  3  |  4  | N\n",
      "\n"
     ]
    }
   ],
   "source": [
    "actual_class = [\"Yes\", \"No\", \"No\", \"Yes\", \"No\", \"No\", \"Yes\", \"No\", \"No\", \"No\"]\n",
    "predicted_class = [\"Yes\", \"No\", \"Yes\", \"No\", \"No\", \"No\", \"Yes\", \"Yes\", \"Yes\", \"No\"]\n",
    "\n",
    "def confusion_matrix(actual, predicted, output=False):\n",
    "    # Count four possible probabilities\n",
    "    # Variables are formatted as {predicted}_{actual}\n",
    "    yes_yes, yes_no, no_no, no_yes = 0,0,0,0\n",
    "    for i in range(len(actual)):\n",
    "        if predicted[i] == \"Yes\":\n",
    "            if actual[i] == predicted[i]:\n",
    "                yes_yes += 1\n",
    "            else:\n",
    "                yes_no += 1\n",
    "        else:\n",
    "            if actual[i] == predicted[i]:\n",
    "                no_no += 1\n",
    "            else:\n",
    "                no_yes += 1\n",
    "                \n",
    "    # Format printing\n",
    "    if output:\n",
    "        print(\"| Predicted |\")\n",
    "        print(\"|  Y     N  |\")\n",
    "        print(\"|-----------|--------\")\n",
    "        print(f\"|  {yes_yes}  |  {no_yes}  | Y\")\n",
    "        print(\"|-----------|   Acutal\")\n",
    "        print(f\"|  {yes_no}  |  {no_no}  | N\")\n",
    "    return [yes_yes, no_yes, yes_no, no_no]\n",
    "\n",
    "confusion_matrix(actual_class, predicted_class, output=True)\n",
    "print()"
   ]
  },
  {
   "cell_type": "markdown",
   "metadata": {},
   "source": [
    "b) Assume you have the following Cost Matrix:\n",
    "\n",
    "|            | predicted = Y | predicted = N |\n",
    "|------------|---------------|---------------|\n",
    "| actual = Y |       -1      |       5       |\n",
    "| actual = N |        10     |       0       |\n",
    "\n",
    "What is the cost of the above classification?"
   ]
  },
  {
   "cell_type": "markdown",
   "metadata": {},
   "source": [
    "C = (-1)2 + 5.1 + 10.3 + 0.4 = 33\n",
    "\n"
   ]
  },
  {
   "cell_type": "markdown",
   "metadata": {},
   "source": [
    "c) Write a function that takes in the actual values, the predictions, and a cost matrix and outputs a cost. Test it on the above example."
   ]
  },
  {
   "cell_type": "code",
   "execution_count": 2,
   "metadata": {},
   "outputs": [
    {
     "data": {
      "text/plain": [
       "33"
      ]
     },
     "execution_count": 2,
     "metadata": {},
     "output_type": "execute_result"
    }
   ],
   "source": [
    "def cost(actual, predicted, cost_matrix):\n",
    "    cost = 0\n",
    "    con_matrix = confusion_matrix(actual, predicted)\n",
    "    for i in range(4):\n",
    "        cost += con_matrix[i] * cost_matrix[i]\n",
    "\n",
    "    return cost\n",
    "\n",
    "# Create cost matrix based on cell above\n",
    "cost_matrix = [-1, 5, 10, 0]\n",
    "\n",
    "cost(actual_class, predicted_class, cost_matrix)"
   ]
  },
  {
   "cell_type": "markdown",
   "metadata": {},
   "source": [
    "d) Implement functions for the following:\n",
    "\n",
    "- accuracy\n",
    "- precision\n",
    "- recall\n",
    "- f-measure\n",
    "\n",
    "and apply them to the above example."
   ]
  },
  {
   "cell_type": "code",
   "execution_count": 3,
   "metadata": {},
   "outputs": [
    {
     "name": "stdout",
     "output_type": "stream",
     "text": [
      "Accuracy of above example: 0.6\n",
      "Precision of above example: 0.4\n",
      "Recall of above example: 0.6666666666666666\n",
      "F-measure of above example: 0.5\n"
     ]
    }
   ],
   "source": [
    "def accuracy(con_matrix):\n",
    "    correct = con_matrix[0] + con_matrix[3]\n",
    "    total = correct + con_matrix[1] + con_matrix[2]\n",
    "    return correct / total\n",
    "\n",
    "def precision(con_matrix):\n",
    "    a = con_matrix[0]\n",
    "    c = con_matrix[2]\n",
    "    return a / (a + c)\n",
    "\n",
    "def recall(con_matrix):\n",
    "    a = con_matrix[0]\n",
    "    b = con_matrix[1]\n",
    "    return a / (a + b)\n",
    "\n",
    "def f_measure(con_matrix):\n",
    "    p = precision(con_matrix)\n",
    "    r = recall(con_matrix)\n",
    "    return 2*r*p/(r + p)\n",
    "\n",
    "con_matrix = confusion_matrix(actual_class, predicted_class)\n",
    "print(f\"Accuracy of above example: {accuracy(con_matrix)}\")\n",
    "print(f\"Precision of above example: {precision(con_matrix)}\")\n",
    "print(f\"Recall of above example: {recall(con_matrix)}\")\n",
    "print(f\"F-measure of above example: {f_measure(con_matrix)}\")"
   ]
  },
  {
   "cell_type": "code",
   "execution_count": null,
   "metadata": {},
   "outputs": [],
   "source": []
  }
 ],
 "metadata": {
  "kernelspec": {
   "display_name": "Python 3 (ipykernel)",
   "language": "python",
   "name": "python3"
  },
  "language_info": {
   "codemirror_mode": {
    "name": "ipython",
    "version": 3
   },
   "file_extension": ".py",
   "mimetype": "text/x-python",
   "name": "python",
   "nbconvert_exporter": "python",
   "pygments_lexer": "ipython3",
   "version": "3.9.7"
  },
  "vscode": {
   "interpreter": {
    "hash": "e7370f93d1d0cde622a1f8e1c04877d8463912d04d973331ad4851f04de6915a"
   }
  }
 },
 "nbformat": 4,
 "nbformat_minor": 2
}
